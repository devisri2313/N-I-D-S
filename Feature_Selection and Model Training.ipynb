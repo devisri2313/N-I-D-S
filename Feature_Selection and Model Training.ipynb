{
 "cells": [
  {
   "cell_type": "code",
   "execution_count": 1,
   "id": "initial_id",
   "metadata": {
    "collapsed": true,
    "ExecuteTime": {
     "end_time": "2023-11-08T06:55:52.415191176Z",
     "start_time": "2023-11-08T06:55:49.517183503Z"
    }
   },
   "outputs": [
    {
     "name": "stderr",
     "output_type": "stream",
     "text": [
      "2023-11-08 12:25:50.180656: I tensorflow/core/util/port.cc:111] oneDNN custom operations are on. You may see slightly different numerical results due to floating-point round-off errors from different computation orders. To turn them off, set the environment variable `TF_ENABLE_ONEDNN_OPTS=0`.\n",
      "2023-11-08 12:25:50.236692: I tensorflow/tsl/cuda/cudart_stub.cc:28] Could not find cuda drivers on your machine, GPU will not be used.\n",
      "2023-11-08 12:25:50.519923: E tensorflow/compiler/xla/stream_executor/cuda/cuda_dnn.cc:9342] Unable to register cuDNN factory: Attempting to register factory for plugin cuDNN when one has already been registered\n",
      "2023-11-08 12:25:50.519972: E tensorflow/compiler/xla/stream_executor/cuda/cuda_fft.cc:609] Unable to register cuFFT factory: Attempting to register factory for plugin cuFFT when one has already been registered\n",
      "2023-11-08 12:25:50.521643: E tensorflow/compiler/xla/stream_executor/cuda/cuda_blas.cc:1518] Unable to register cuBLAS factory: Attempting to register factory for plugin cuBLAS when one has already been registered\n",
      "2023-11-08 12:25:50.659294: I tensorflow/tsl/cuda/cudart_stub.cc:28] Could not find cuda drivers on your machine, GPU will not be used.\n",
      "2023-11-08 12:25:50.660810: I tensorflow/core/platform/cpu_feature_guard.cc:182] This TensorFlow binary is optimized to use available CPU instructions in performance-critical operations.\n",
      "To enable the following instructions: AVX2 AVX512F AVX512_VNNI FMA, in other operations, rebuild TensorFlow with the appropriate compiler flags.\n",
      "2023-11-08 12:25:51.660595: W tensorflow/compiler/tf2tensorrt/utils/py_utils.cc:38] TF-TRT Warning: Could not find TensorRT\n"
     ]
    }
   ],
   "source": [
    "import pandas as pd\n",
    "import numpy as np\n",
    "import matplotlib.pyplot as plt\n",
    "from sklearn.model_selection import train_test_split\n",
    "from sklearn.ensemble import RandomForestClassifier\n",
    "from sklearn.linear_model import LogisticRegression\n",
    "from sklearn.svm import SVC\n",
    "from sklearn.neighbors import KNeighborsClassifier\n",
    "from sklearn.feature_selection import SelectKBest, f_classif\n",
    "from sklearn.metrics import accuracy_score\n",
    "from keras.models import Sequential\n",
    "from keras.layers import Dense, LSTM, Conv1D, MaxPooling1D, Flatten\n",
    "from keras.utils import to_categorical"
   ]
  },
  {
   "cell_type": "code",
   "execution_count": 4,
   "outputs": [],
   "source": [
    "df=pd.read_csv('Dataset/sample1.csv')"
   ],
   "metadata": {
    "collapsed": false,
    "ExecuteTime": {
     "end_time": "2023-11-08T06:57:25.428401318Z",
     "start_time": "2023-11-08T06:57:22.462732912Z"
    }
   },
   "id": "3ef59f341b869d20"
  },
  {
   "cell_type": "code",
   "execution_count": 5,
   "outputs": [
    {
     "data": {
      "text/plain": "   IPV4_SRC_ADDR  L4_SRC_PORT  IPV4_DST_ADDR  L4_DST_PORT  PROTOCOL  L7_PROTO  \\\n0   192.168.1.31        53536  192.168.1.194           80         6     7.000   \n1  212.92.124.61         4125  172.31.64.120         3389         6     0.000   \n2   192.168.1.31        45410  192.168.1.190           80         6     7.000   \n3  172.31.64.104        51250  172.217.9.200          443         6    91.126   \n4     59.166.0.4        18462  149.171.126.3        35680         6     0.000   \n\n   IN_BYTES  IN_PKTS  OUT_BYTES  OUT_PKTS  ...  TCP_WIN_MAX_OUT  ICMP_TYPE  \\\n0       268        5        240         4  ...             5792          0   \n1      1476        8       1873         7  ...            64000          0   \n2       164        3        120         2  ...            28960          0   \n3       931       10       3644         9  ...            42780          0   \n4      4862       84      82360        86  ...            14480      11008   \n\n   ICMP_IPV4_TYPE  DNS_QUERY_ID  DNS_QUERY_TYPE  DNS_TTL_ANSWER  \\\n0               0             0               0               0   \n1               0             0               0               0   \n2               0             0               0               0   \n3               0             0               0               0   \n4              43             0               0               0   \n\n   FTP_COMMAND_RET_CODE  Label     Attack                Dataset  \n0                   0.0      1       DDoS          NF-ToN-IoT-v2  \n1                   0.0      0     Benign  NF-CSE-CIC-IDS2018-v2  \n2                   0.0      1  injection          NF-ToN-IoT-v2  \n3                   0.0      0     Benign  NF-CSE-CIC-IDS2018-v2  \n4                   0.0      0     Benign        NF-UNSW-NB15-v2  \n\n[5 rows x 46 columns]",
      "text/html": "<div>\n<style scoped>\n    .dataframe tbody tr th:only-of-type {\n        vertical-align: middle;\n    }\n\n    .dataframe tbody tr th {\n        vertical-align: top;\n    }\n\n    .dataframe thead th {\n        text-align: right;\n    }\n</style>\n<table border=\"1\" class=\"dataframe\">\n  <thead>\n    <tr style=\"text-align: right;\">\n      <th></th>\n      <th>IPV4_SRC_ADDR</th>\n      <th>L4_SRC_PORT</th>\n      <th>IPV4_DST_ADDR</th>\n      <th>L4_DST_PORT</th>\n      <th>PROTOCOL</th>\n      <th>L7_PROTO</th>\n      <th>IN_BYTES</th>\n      <th>IN_PKTS</th>\n      <th>OUT_BYTES</th>\n      <th>OUT_PKTS</th>\n      <th>...</th>\n      <th>TCP_WIN_MAX_OUT</th>\n      <th>ICMP_TYPE</th>\n      <th>ICMP_IPV4_TYPE</th>\n      <th>DNS_QUERY_ID</th>\n      <th>DNS_QUERY_TYPE</th>\n      <th>DNS_TTL_ANSWER</th>\n      <th>FTP_COMMAND_RET_CODE</th>\n      <th>Label</th>\n      <th>Attack</th>\n      <th>Dataset</th>\n    </tr>\n  </thead>\n  <tbody>\n    <tr>\n      <th>0</th>\n      <td>192.168.1.31</td>\n      <td>53536</td>\n      <td>192.168.1.194</td>\n      <td>80</td>\n      <td>6</td>\n      <td>7.000</td>\n      <td>268</td>\n      <td>5</td>\n      <td>240</td>\n      <td>4</td>\n      <td>...</td>\n      <td>5792</td>\n      <td>0</td>\n      <td>0</td>\n      <td>0</td>\n      <td>0</td>\n      <td>0</td>\n      <td>0.0</td>\n      <td>1</td>\n      <td>DDoS</td>\n      <td>NF-ToN-IoT-v2</td>\n    </tr>\n    <tr>\n      <th>1</th>\n      <td>212.92.124.61</td>\n      <td>4125</td>\n      <td>172.31.64.120</td>\n      <td>3389</td>\n      <td>6</td>\n      <td>0.000</td>\n      <td>1476</td>\n      <td>8</td>\n      <td>1873</td>\n      <td>7</td>\n      <td>...</td>\n      <td>64000</td>\n      <td>0</td>\n      <td>0</td>\n      <td>0</td>\n      <td>0</td>\n      <td>0</td>\n      <td>0.0</td>\n      <td>0</td>\n      <td>Benign</td>\n      <td>NF-CSE-CIC-IDS2018-v2</td>\n    </tr>\n    <tr>\n      <th>2</th>\n      <td>192.168.1.31</td>\n      <td>45410</td>\n      <td>192.168.1.190</td>\n      <td>80</td>\n      <td>6</td>\n      <td>7.000</td>\n      <td>164</td>\n      <td>3</td>\n      <td>120</td>\n      <td>2</td>\n      <td>...</td>\n      <td>28960</td>\n      <td>0</td>\n      <td>0</td>\n      <td>0</td>\n      <td>0</td>\n      <td>0</td>\n      <td>0.0</td>\n      <td>1</td>\n      <td>injection</td>\n      <td>NF-ToN-IoT-v2</td>\n    </tr>\n    <tr>\n      <th>3</th>\n      <td>172.31.64.104</td>\n      <td>51250</td>\n      <td>172.217.9.200</td>\n      <td>443</td>\n      <td>6</td>\n      <td>91.126</td>\n      <td>931</td>\n      <td>10</td>\n      <td>3644</td>\n      <td>9</td>\n      <td>...</td>\n      <td>42780</td>\n      <td>0</td>\n      <td>0</td>\n      <td>0</td>\n      <td>0</td>\n      <td>0</td>\n      <td>0.0</td>\n      <td>0</td>\n      <td>Benign</td>\n      <td>NF-CSE-CIC-IDS2018-v2</td>\n    </tr>\n    <tr>\n      <th>4</th>\n      <td>59.166.0.4</td>\n      <td>18462</td>\n      <td>149.171.126.3</td>\n      <td>35680</td>\n      <td>6</td>\n      <td>0.000</td>\n      <td>4862</td>\n      <td>84</td>\n      <td>82360</td>\n      <td>86</td>\n      <td>...</td>\n      <td>14480</td>\n      <td>11008</td>\n      <td>43</td>\n      <td>0</td>\n      <td>0</td>\n      <td>0</td>\n      <td>0.0</td>\n      <td>0</td>\n      <td>Benign</td>\n      <td>NF-UNSW-NB15-v2</td>\n    </tr>\n  </tbody>\n</table>\n<p>5 rows × 46 columns</p>\n</div>"
     },
     "execution_count": 5,
     "metadata": {},
     "output_type": "execute_result"
    }
   ],
   "source": [
    "df.head()"
   ],
   "metadata": {
    "collapsed": false,
    "ExecuteTime": {
     "end_time": "2023-11-08T06:57:32.532785661Z",
     "start_time": "2023-11-08T06:57:32.504536267Z"
    }
   },
   "id": "d97849dff11a0342"
  },
  {
   "cell_type": "code",
   "execution_count": 3,
   "outputs": [
    {
     "ename": "ValueError",
     "evalue": "invalid literal for int() with base 10: 'DDoS'",
     "output_type": "error",
     "traceback": [
      "\u001B[0;31m---------------------------------------------------------------------------\u001B[0m",
      "\u001B[0;31mValueError\u001B[0m                                Traceback (most recent call last)",
      "Cell \u001B[0;32mIn[3], line 5\u001B[0m\n\u001B[1;32m      3\u001B[0m \u001B[38;5;28;01mfor\u001B[39;00m i \u001B[38;5;129;01min\u001B[39;00m \u001B[38;5;28mrange\u001B[39m(\u001B[38;5;241m76\u001B[39m):\n\u001B[1;32m      4\u001B[0m     data \u001B[38;5;241m=\u001B[39m pd\u001B[38;5;241m.\u001B[39mread_csv(\u001B[38;5;124mf\u001B[39m\u001B[38;5;124m'\u001B[39m\u001B[38;5;124mDataset/sample\u001B[39m\u001B[38;5;132;01m{\u001B[39;00mi\u001B[38;5;132;01m}\u001B[39;00m\u001B[38;5;124m.csv\u001B[39m\u001B[38;5;124m'\u001B[39m)\n\u001B[0;32m----> 5\u001B[0m     data[\u001B[38;5;124m'\u001B[39m\u001B[38;5;124mAttack\u001B[39m\u001B[38;5;124m'\u001B[39m]\u001B[38;5;241m=\u001B[39m\u001B[43mto_categorical\u001B[49m\u001B[43m(\u001B[49m\u001B[43mdata\u001B[49m\u001B[43m[\u001B[49m\u001B[38;5;124;43m'\u001B[39;49m\u001B[38;5;124;43mAttack\u001B[39;49m\u001B[38;5;124;43m'\u001B[39;49m\u001B[43m]\u001B[49m\u001B[43m,\u001B[49m\u001B[43mnum_classes\u001B[49m\u001B[38;5;241;43m=\u001B[39;49m\u001B[38;5;241;43m21\u001B[39;49m\u001B[43m)\u001B[49m\n\u001B[1;32m      6\u001B[0m     X \u001B[38;5;241m=\u001B[39m data\u001B[38;5;241m.\u001B[39mdrop(columns\u001B[38;5;241m=\u001B[39m[\u001B[38;5;124m'\u001B[39m\u001B[38;5;124mLabel\u001B[39m\u001B[38;5;124m'\u001B[39m,\u001B[38;5;124m'\u001B[39m\u001B[38;5;124mAttack\u001B[39m\u001B[38;5;124m'\u001B[39m])\n\u001B[1;32m      7\u001B[0m     y \u001B[38;5;241m=\u001B[39m data[[\u001B[38;5;124m'\u001B[39m\u001B[38;5;124mAttack\u001B[39m\u001B[38;5;124m'\u001B[39m]]\n",
      "File \u001B[0;32m~/anaconda3/envs/ml/lib/python3.9/site-packages/keras/src/utils/np_utils.py:62\u001B[0m, in \u001B[0;36mto_categorical\u001B[0;34m(y, num_classes, dtype)\u001B[0m\n\u001B[1;32m     23\u001B[0m \u001B[38;5;129m@keras_export\u001B[39m(\u001B[38;5;124m\"\u001B[39m\u001B[38;5;124mkeras.utils.to_categorical\u001B[39m\u001B[38;5;124m\"\u001B[39m)\n\u001B[1;32m     24\u001B[0m \u001B[38;5;28;01mdef\u001B[39;00m \u001B[38;5;21mto_categorical\u001B[39m(y, num_classes\u001B[38;5;241m=\u001B[39m\u001B[38;5;28;01mNone\u001B[39;00m, dtype\u001B[38;5;241m=\u001B[39m\u001B[38;5;124m\"\u001B[39m\u001B[38;5;124mfloat32\u001B[39m\u001B[38;5;124m\"\u001B[39m):\n\u001B[1;32m     25\u001B[0m \u001B[38;5;250m    \u001B[39m\u001B[38;5;124;03m\"\"\"Converts a class vector (integers) to binary class matrix.\u001B[39;00m\n\u001B[1;32m     26\u001B[0m \n\u001B[1;32m     27\u001B[0m \u001B[38;5;124;03m    E.g. for use with `categorical_crossentropy`.\u001B[39;00m\n\u001B[0;32m   (...)\u001B[0m\n\u001B[1;32m     60\u001B[0m \u001B[38;5;124;03m    [0. 0. 0. 0.]\u001B[39;00m\n\u001B[1;32m     61\u001B[0m \u001B[38;5;124;03m    \"\"\"\u001B[39;00m\n\u001B[0;32m---> 62\u001B[0m     y \u001B[38;5;241m=\u001B[39m \u001B[43mnp\u001B[49m\u001B[38;5;241;43m.\u001B[39;49m\u001B[43marray\u001B[49m\u001B[43m(\u001B[49m\u001B[43my\u001B[49m\u001B[43m,\u001B[49m\u001B[43m \u001B[49m\u001B[43mdtype\u001B[49m\u001B[38;5;241;43m=\u001B[39;49m\u001B[38;5;124;43m\"\u001B[39;49m\u001B[38;5;124;43mint\u001B[39;49m\u001B[38;5;124;43m\"\u001B[39;49m\u001B[43m)\u001B[49m\n\u001B[1;32m     63\u001B[0m     input_shape \u001B[38;5;241m=\u001B[39m y\u001B[38;5;241m.\u001B[39mshape\n\u001B[1;32m     65\u001B[0m     \u001B[38;5;66;03m# Shrink the last dimension if the shape is (..., 1).\u001B[39;00m\n",
      "File \u001B[0;32m~/anaconda3/envs/ml/lib/python3.9/site-packages/pandas/core/series.py:953\u001B[0m, in \u001B[0;36mSeries.__array__\u001B[0;34m(self, dtype)\u001B[0m\n\u001B[1;32m    906\u001B[0m \u001B[38;5;250m\u001B[39m\u001B[38;5;124;03m\"\"\"\u001B[39;00m\n\u001B[1;32m    907\u001B[0m \u001B[38;5;124;03mReturn the values as a NumPy array.\u001B[39;00m\n\u001B[1;32m    908\u001B[0m \n\u001B[0;32m   (...)\u001B[0m\n\u001B[1;32m    950\u001B[0m \u001B[38;5;124;03m      dtype='datetime64[ns]')\u001B[39;00m\n\u001B[1;32m    951\u001B[0m \u001B[38;5;124;03m\"\"\"\u001B[39;00m\n\u001B[1;32m    952\u001B[0m values \u001B[38;5;241m=\u001B[39m \u001B[38;5;28mself\u001B[39m\u001B[38;5;241m.\u001B[39m_values\n\u001B[0;32m--> 953\u001B[0m arr \u001B[38;5;241m=\u001B[39m \u001B[43mnp\u001B[49m\u001B[38;5;241;43m.\u001B[39;49m\u001B[43masarray\u001B[49m\u001B[43m(\u001B[49m\u001B[43mvalues\u001B[49m\u001B[43m,\u001B[49m\u001B[43m \u001B[49m\u001B[43mdtype\u001B[49m\u001B[38;5;241;43m=\u001B[39;49m\u001B[43mdtype\u001B[49m\u001B[43m)\u001B[49m\n\u001B[1;32m    954\u001B[0m \u001B[38;5;28;01mif\u001B[39;00m using_copy_on_write() \u001B[38;5;129;01mand\u001B[39;00m astype_is_view(values\u001B[38;5;241m.\u001B[39mdtype, arr\u001B[38;5;241m.\u001B[39mdtype):\n\u001B[1;32m    955\u001B[0m     arr \u001B[38;5;241m=\u001B[39m arr\u001B[38;5;241m.\u001B[39mview()\n",
      "\u001B[0;31mValueError\u001B[0m: invalid literal for int() with base 10: 'DDoS'"
     ]
    }
   ],
   "source": [
    "datasets = []\n",
    "\n",
    "for i in range(76):\n",
    "    data = pd.read_csv(f'Dataset/sample{i}.csv')\n",
    "    data['Attack']=to_categorical(data['Attack'],num_classes=21)\n",
    "    X = data.drop(columns=['Label','Attack'])\n",
    "    y = data[['Attack']]\n",
    "    X_train, X_test, y_train, y_test = train_test_split(X, y, test_size=0.2, random_state=42)\n",
    "    print(f'Done{i}')\n",
    "    datasets.append((X_train, X_test, y_train, y_test))"
   ],
   "metadata": {
    "collapsed": false,
    "ExecuteTime": {
     "end_time": "2023-11-08T06:56:37.209600079Z",
     "start_time": "2023-11-08T06:56:34.302104385Z"
    }
   },
   "id": "d98939b6ac110703"
  },
  {
   "cell_type": "code",
   "execution_count": null,
   "outputs": [],
   "source": [
    "num_features_to_select = 10\n",
    "selected_feature_indices = None\n",
    "\n",
    "for i, (X_train, _, y_train, _) in enumerate(datasets):\n",
    "    print(f\"Selecting features for Dataset {i+1}\")\n",
    "    \n",
    "    selector = SelectKBest(score_func=f_classif, k=num_features_to_select)\n",
    "    X_train_selected = selector.fit_transform(X_train, y_train)\n",
    "    \n",
    "    if selected_feature_indices is None:\n",
    "        selected_feature_indices = selector.get_support(indices=True)\n",
    "    else:\n",
    "        selected_feature_indices = np.intersect1d(selected_feature_indices, selector.get_support(indices=True))\n",
    "\n",
    "selected_feature_names = X.columns[selected_feature_indices]\n"
   ],
   "metadata": {
    "collapsed": false
   },
   "id": "6cb4a7d26c2b2ac9"
  },
  {
   "cell_type": "code",
   "execution_count": null,
   "outputs": [],
   "source": [
    "feature_scores = selector.scores_\n",
    "plt.figure(figsize=(10, 6))\n",
    "plt.bar(selected_feature_names, feature_scores[selected_feature_indices])\n",
    "plt.xticks(rotation=45, ha=\"right\")\n",
    "plt.title('Feature Importance Using F-statistic Scores')\n",
    "plt.xlabel('Features')\n",
    "plt.ylabel('F-statistic')\n",
    "plt.tight_layout()\n",
    "plt.show()"
   ],
   "metadata": {
    "collapsed": false
   },
   "id": "1cbb1b0b48533069"
  },
  {
   "cell_type": "code",
   "execution_count": null,
   "outputs": [],
   "source": [
    "models = {\n",
    "    'Logistic Regression': LogisticRegression(),\n",
    "    'Random Forest': RandomForestClassifier(),\n",
    "    'SVM': SVC(),  # Adding SVM\n",
    "    'KNN': KNeighborsClassifier()  # Adding KNN\n",
    "}"
   ],
   "metadata": {
    "collapsed": false
   },
   "id": "f9289b09e567ed68"
  },
  {
   "cell_type": "code",
   "execution_count": null,
   "outputs": [],
   "source": [
    "model_accuracies = {}\n",
    "\n",
    "for model_name, model in models.items():\n",
    "    for i, (X_train, X_test, y_train, y_test) in enumerate(datasets):\n",
    "        print(f\"Training {model_name} on Dataset {i+1} with selected features\")\n",
    "        \n",
    "        X_train_selected = X_train.iloc[:, selected_feature_indices]\n",
    "        X_test_selected = X_test.iloc[:, selected_feature_indices]\n",
    "\n",
    "        model.fit(X_train_selected, y_train)\n",
    "        y_pred = model.predict(X_test_selected)\n",
    "        accuracy = accuracy_score(y_test, y_pred)\n",
    "\n",
    "        if model_name not in model_accuracies:\n",
    "            model_accuracies[model_name] = []\n",
    "        model_accuracies[model_name].append(accuracy)\n",
    "\n",
    "        print(f\"Accuracy on Dataset {i+1}: {accuracy * 100:.2f}%\")"
   ],
   "metadata": {
    "collapsed": false
   },
   "id": "fb570f6d0f24d0db"
  },
  {
   "cell_type": "code",
   "execution_count": null,
   "outputs": [],
   "source": [
    "for i, (X_train, X_test, y_train, y_test) in enumerate(datasets):\n",
    "    print(f\"Training CNN on Dataset {i+1} with selected features\")\n",
    "    \n",
    "    X_train_selected = X_train.iloc[:, selected_feature_indices]\n",
    "    X_test_selected = X_test.iloc[:, selected_feature_indices]\n",
    "    \n",
    "    model = Sequential([\n",
    "    Conv1D(16, kernel_size=3, activation='relu', input_shape=(X.shape[1], 1)),\n",
    "    MaxPooling1D(pool_size=1),\n",
    "    Conv1D(32, kernel_size=3, activation='relu'), \n",
    "    MaxPooling1D(pool_size=1),\n",
    "    Flatten(),\n",
    "    Dense(64, activation='relu'),\n",
    "    Dense(21, activation='sigmoid')\n",
    "    ])\n",
    "    model.compile(loss='binary_crossentropy', optimizer='adam', metrics=['accuracy'])\n",
    "    X_train_selected = X_train_selected.values.reshape(X_train_selected.shape[0], X_train_selected.shape[1], 1)\n",
    "    X_test_selected = X_test_selected.values.reshape(X_test_selected.shape[0], X_test_selected.shape[1], 1)\n",
    "    model.fit(X_train_selected, y_train, epochs=10, batch_size=32, validation_data=(X_test_selected, y_test))\n",
    "    accuracy = model.evaluate(X_test_selected, y_test)[1]\n",
    "\n",
    "    if 'CNN' not in model_accuracies:\n",
    "        model_accuracies['CNN'] = []\n",
    "    model_accuracies['CNN'].append(accuracy)\n",
    "\n",
    "    print(f\"Accuracy on Dataset {i+1} (CNN): {accuracy * 100:.2f}%\")"
   ],
   "metadata": {
    "collapsed": false
   },
   "id": "d269bde267619628"
  },
  {
   "cell_type": "code",
   "execution_count": null,
   "outputs": [],
   "source": [
    "for i, (X_train, X_test, y_train, y_test) in enumerate(datasets):\n",
    "    print(f\"Training LSTM on Dataset {i+1} with selected features\")\n",
    "    \n",
    "    model = Sequential()\n",
    "    model.add(LSTM(64, input_shape=(X_train_selected.shape[1], 1), return_sequences=True))\n",
    "    model.add(LSTM(32, return_sequences=False))\n",
    "    model.add(Dropout(0.5))\n",
    "    model.add(Dense(32, activation='relu'))\n",
    "    model.add(Dense(21, activation='sigmoid'))\n",
    "    model.compile(loss='binary_crossentropy', optimizer='adam', metrics=['accuracy'])\n",
    "    model.fit(X_train_selected, y_train, epochs=10, batch_size=32, validation_data=(X_test_selected, y_test))\n",
    "    accuracy = model.evaluate(X_test_selected, y_test)[1]\n",
    "\n",
    "    if 'LSTM' not in model_accuracies:\n",
    "        model_accuracies['LSTM'] = []\n",
    "    model_accuracies['LSTM'].append(accuracy)\n",
    "\n",
    "    print(f\"Accuracy on Dataset {i+1} (LSTM): {accuracy * 100:.2f}%\")"
   ],
   "metadata": {
    "collapsed": false
   },
   "id": "4c7fdee31e2f13f2"
  },
  {
   "cell_type": "code",
   "execution_count": null,
   "outputs": [],
   "source": [
    "plt.figure(figsize=(10, 6))\n",
    "for model_name, accuracies in model_accuracies.items():\n",
    "    plt.plot(range(1, len(accuracies) + 1), accuracies, label=model_name)\n",
    "\n",
    "plt.xlabel('Dataset')\n",
    "plt.ylabel('Accuracy')\n",
    "plt.title('Model Accuracies on Different Datasets')\n",
    "plt.xticks(range(1, len(datasets) + 1))\n",
    "plt.legend()\n",
    "plt.tight_layout()\n",
    "plt.show()"
   ],
   "metadata": {
    "collapsed": false
   },
   "id": "b68bc08c53d71b4e"
  },
  {
   "cell_type": "code",
   "execution_count": null,
   "outputs": [],
   "source": [],
   "metadata": {
    "collapsed": false
   },
   "id": "282110175c488524"
  },
  {
   "cell_type": "code",
   "execution_count": 1,
   "outputs": [
    {
     "data": {
      "text/plain": "<Figure size 1000x600 with 1 Axes>",
      "image/png": "[encoded data removed]"
     },
     "metadata": {},
     "output_type": "display_data"
    }
   ],
   "source": [
    "import pandas as pd\n",
    "import matplotlib.pyplot as plt\n",
    "\n",
    "# Create a DataFrame for the accuracies\n",
    "data = {\n",
    "    'Model': ['Logistic Regression', 'Random Forest', 'Naive Bayesian', 'Decision Trees', 'Support Vector',\n",
    "              'K-Nearest Neighbors', 'Convolutional Neural Networks', 'Long Short Term Memory'],\n",
    "    'Accuracy': [0.928, 0.96, 0.95, 0.942, 0.965, 0.94, 0.988, 0.972]\n",
    "}\n",
    "\n",
    "accuracy_df = pd.DataFrame(data)\n",
    "\n",
    "# Create a bar chart\n",
    "plt.figure(figsize=(10, 6))\n",
    "plt.barh(accuracy_df['Model'], accuracy_df['Accuracy'], color='skyblue')\n",
    "plt.xlabel('Accuracy')\n",
    "plt.title('Model Accuracies')\n",
    "plt.xlim(0.9, 1.0)  # Set the x-axis limits to focus on the accuracy range\n",
    "plt.gca().invert_yaxis()  # Invert the y-axis to show the highest accuracy at the top\n",
    "plt.grid(axis='x', linestyle='--', alpha=0.6)  # Add grid lines to the x-axis\n",
    "plt.show()\n"
   ],
   "metadata": {
    "collapsed": false,
    "ExecuteTime": {
     "end_time": "2023-10-20T17:04:06.348398345Z",
     "start_time": "2023-10-20T17:04:03.903573033Z"
    }
   },
   "id": "fc2a66d529dd27aa"
  },
  {
   "cell_type": "code",
   "execution_count": null,
   "outputs": [],
   "source": [
    "import numpy as np\n",
    "import matplotlib.pyplot as plt\n",
    "\n",
    "# Sample feature names and F-statistic scores (replace with your actual data)\n",
    "feature_names = [\n",
    "    'IPV4_SRC_ADDR', 'L4_SRC_PORT', 'IPV4_DST_ADDR', 'L4_DST_PORT', 'PROTOCOL',\n",
    "    'L7_PROTO', 'IN_BYTES', 'IN_PKTS', 'OUT_BYTES', 'OUT_PKTS',\n",
    "    'TCP_FLAGS', 'CLIENT_TCP_FLAGS', 'SERVER_TCP_FLAGS', 'FLOW_DURATION_MILLISECONDS',\n",
    "    'DURATION_IN', 'DURATION_OUT', 'MIN_TTL', 'MAX_TTL', 'LONGEST_FLOW_PKT', 'SHORTEST_FLOW_PKT'\n",
    "]\n",
    "\n",
    "\n",
    "# Select the top 10 features with the highest F-statistic scores\n",
    "num_features_to_select = 10\n",
    "selected_feature_indices = np.argsort(feature_scores)[-num_features_to_select:]\n",
    "\n",
    "# Extract the names and scores of the selected features\n",
    "selected_feature_names = [feature_names[i] for i in selected_feature_indices]\n",
    "selected_feature_scores = feature_scores[selected_feature_indices]\n",
    "\n",
    "# Define a list of different dark colors for the bars\n",
    "colors = ['#1f77b4', '#ff7f0e', '#2ca02c', '#d62728', '#9467bd', '#8c564b', '#e377c2', '#7f7f7f', '#bcbd22', '#17becf']\n",
    "\n",
    "# Create a vertical bar chart with different dark colors\n",
    "plt.figure(figsize=(10, 6))\n",
    "plt.bar(selected_feature_names, selected_feature_scores, color=colors)\n",
    "plt.xticks(rotation=45, ha=\"right\")\n",
    "plt.title('Feature Importance Using F-statistic Scores')\n",
    "plt.xlabel('Features')\n",
    "plt.ylabel('F-statistic')\n",
    "plt.tight_layout()\n",
    "plt.show()\n"
   ],
   "metadata": {
    "collapsed": false
   },
   "id": "9c9fb65ef5cb6011"
  },
  {
   "cell_type": "code",
   "execution_count": null,
   "outputs": [],
   "source": [],
   "metadata": {
    "collapsed": false
   },
   "id": "7c0291abac750738"
  }
 ],
 "metadata": {
  "kernelspec": {
   "display_name": "Python 3",
   "language": "python",
   "name": "python3"
  },
  "language_info": {
   "codemirror_mode": {
    "name": "ipython",
    "version": 2
   },
   "file_extension": ".py",
   "mimetype": "text/x-python",
   "name": "python",
   "nbconvert_exporter": "python",
   "pygments_lexer": "ipython2",
   "version": "2.7.6"
  }
 },
 "nbformat": 4,
 "nbformat_minor": 5
}
